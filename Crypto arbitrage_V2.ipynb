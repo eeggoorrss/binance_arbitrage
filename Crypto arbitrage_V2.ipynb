{
 "cells": [
  {
   "cell_type": "code",
   "execution_count": 1,
   "id": "3385c1de",
   "metadata": {},
   "outputs": [],
   "source": [
    "import pandas as pd\n",
    "import time\n",
    "from datetime import datetime\n",
    "import math\n",
    "import ccxt\n",
    "import json"
   ]
  },
  {
   "cell_type": "code",
   "execution_count": 2,
   "id": "c12943e0",
   "metadata": {},
   "outputs": [],
   "source": [
    "with open('binance.json') as f:\n",
    "    binance_api = json.load(f)"
   ]
  },
  {
   "cell_type": "code",
   "execution_count": 3,
   "id": "e2266c83",
   "metadata": {},
   "outputs": [],
   "source": [
    "exchange_id = 'binance'\n",
    "exchange_class = getattr(ccxt, exchange_id)\n",
    "\n",
    "exchange = exchange_class({\n",
    "    \"apiKey\": binance_api[vAHxVADHcCtjRz60L4jCvhQcoYgCDc1DCheTlB8kZCyyaDiEQpt6jE7MqBFCyU9n],\n",
    "    \"secret\": binance_api[m4dfISgJwvpPQ5aby4S059gshdzMscXtvkz50o2TOWGU7G5U1YxmzPjUegVmQSUX],\n",
    "})"
   ]
  },
  {
   "cell_type": "code",
   "execution_count": 4,
   "id": "5f65840b",
   "metadata": {
    "scrolled": true
   },
   "outputs": [],
   "source": [
    "markets = exchange.fetchMarkets()\n",
    "market_symbols = [market['symbol'] for market in markets if market['type']=='spot']"
   ]
  },
  {
   "cell_type": "code",
   "execution_count": 5,
   "id": "fd51a73c",
   "metadata": {},
   "outputs": [],
   "source": [
    "def create_chain(base_currency, token1, token2, buy_t1, buy_t2_by_t1, sell_t2, res):   \n",
    "    return {\n",
    "        'base': base_currency, # USDT                 \n",
    "        'token1':token1,      # BTC                 \n",
    "        'token2':token2,      # ETH       \n",
    "        'buy_t1': buy_t1,     \n",
    "        'buy_t2_by_t1': buy_t2_by_t1,       \n",
    "        'sell_t2': sell_t2,\n",
    "        'Result' : res\n",
    "    }\n",
    "    \n",
    "\n",
    "def get_chains(market_symbols, quotes, base_currency='USDT'):\n",
    "    chains = []\n",
    "\n",
    "    for symbol in market_symbols:\n",
    "        try:\n",
    "            token1 = symbol.split('/')[0] \n",
    "            token2 = symbol.split('/')[1]\n",
    "            #ищем промежуточное звено треугольника и проверяем результат в 2 стороны\n",
    "            if (token1!=base_currency and token2!=base_currency):\n",
    "                start = quotes[f'{token1}/{base_currency}']\n",
    "                middle = quotes[f'{token1}/{token2}']\n",
    "                finish = quotes[f'{token2}/{base_currency}']\n",
    "                if  start['ask']!=0 and start['bid']!=0 and middle['ask']!=0 and middle['bid']!=0 and finish['ask']!=0 and finish['bid']!=0:\n",
    "                    #USDT-ETH-BTC\n",
    "                    chains.append(\n",
    "                                create_chain(\n",
    "                                    base_currency, #USDT\n",
    "                                    token1,        #ETH\n",
    "                                    token2,        #BTC\n",
    "                                    start['ask'],  #ETH/USDT ASK\n",
    "                                    middle['bid'], #ETH/BTC BID\n",
    "                                    finish['bid'], #BTC/USDT BID\n",
    "                                    float(100.0*middle['bid']*finish['bid']/start['ask']-100.0)\n",
    "                                )\n",
    "                    )\n",
    "                    #USDT-BTC-ETH\n",
    "                    chains.append(\n",
    "                                create_chain(\n",
    "                                    base_currency, #USDT\n",
    "                                    token2,        #BTC\n",
    "                                    token1,        #ETH\n",
    "                                    finish['ask'], #BTC/USDT ASK\n",
    "                                    middle['ask'], ##ETH/BTC ASK\n",
    "                                    start['bid'],  #ETH/USDT BID\n",
    "                                    float(100.0*start['bid']/finish['ask']/middle['ask']-100.0)\n",
    "                                )\n",
    "                   )\n",
    "\n",
    "        except KeyError:\n",
    "            pass\n",
    "    return pd.DataFrame(chains)\n"
   ]
  },
  {
   "cell_type": "code",
   "execution_count": null,
   "id": "89b0964f",
   "metadata": {
    "scrolled": false
   },
   "outputs": [
    {
     "name": "stdout",
     "output_type": "stream",
     "text": [
      "Time-15:38:02\n",
      "      base token1 token2  buy_t1  buy_t2_by_t1  sell_t2    Result\n",
      "1214  USDT   BOND   BUSD   5.474         5.493   1.0002  0.367165\n",
      "Time-15:38:24\n",
      "      base token1 token2  buy_t1  buy_t2_by_t1  sell_t2    Result\n",
      "1665  USDT    BNB   GLMR   235.9      0.002507   0.5941  0.456323\n",
      "Time-15:44:23\n",
      "     base token1 token2   buy_t1  buy_t2_by_t1  sell_t2    Result\n",
      "357  USDT    BTC   PERL  20625.2      0.000001  0.02283  0.627123\n",
      "Time-15:47:35\n",
      "     base token1 token2  buy_t1  buy_t2_by_t1  sell_t2    Result\n",
      "912  USDT   DEXE   BUSD    2.98          2.99   1.0002  0.355638\n",
      "Time-15:47:36\n",
      "     base token1 token2  buy_t1  buy_t2_by_t1  sell_t2    Result\n",
      "912  USDT   DEXE   BUSD   2.974          2.99   1.0002  0.558104\n"
     ]
    }
   ],
   "source": [
    "while(1):    \n",
    "    quotes = exchange.fetchBidsAsks()\n",
    "    chains = get_chains(market_symbols, quotes, 'USDT')\n",
    "    sorted_chains = chains.sort_values(by='Result', ascending=False)\n",
    "    profit = sorted_chains.loc[sorted_chains['Result']>0.3]\n",
    "    if not profit.empty:\n",
    "        print(f\"Time-{datetime.now().strftime('%H:%M:%S')}\")\n",
    "        print(profit)\n",
    "    time.sleep(1)"
   ]
  },
  {
   "cell_type": "code",
   "execution_count": 29,
   "id": "89c37009",
   "metadata": {
    "scrolled": true
   },
   "outputs": [
    {
     "data": {
      "text/plain": [
       "0.10969292389852114"
      ]
     },
     "execution_count": 29,
     "metadata": {},
     "output_type": "execute_result"
    }
   ],
   "source": [
    "#token1 - token2\n",
    "100.0*0.674300*1.0008/0.67410-100.0"
   ]
  },
  {
   "cell_type": "code",
   "execution_count": 30,
   "id": "c52e617b",
   "metadata": {
    "scrolled": true
   },
   "outputs": [
    {
     "data": {
      "text/plain": [
       "0.018295744391153335"
      ]
     },
     "execution_count": 30,
     "metadata": {},
     "output_type": "execute_result"
    }
   ],
   "source": [
    "#token2 - token1\n",
    "100.0*0.513/19727.1600/0.000026-100.0"
   ]
  }
 ],
 "metadata": {
  "kernelspec": {
   "display_name": "Python 3 (ipykernel)",
   "language": "python",
   "name": "python3"
  },
  "language_info": {
   "codemirror_mode": {
    "name": "ipython",
    "version": 3
   },
   "file_extension": ".py",
   "mimetype": "text/x-python",
   "name": "python",
   "nbconvert_exporter": "python",
   "pygments_lexer": "ipython3",
   "version": "3.8.13"
  }
 },
 "nbformat": 4,
 "nbformat_minor": 5
}
