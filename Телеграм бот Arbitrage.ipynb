{
 "cells": [
  {
   "cell_type": "code",
   "execution_count": 1,
   "id": "e1bff3f1",
   "metadata": {},
   "outputs": [],
   "source": [
    "import time\n",
    "import math\n",
    "import json\n",
    "import pandas as pd\n",
    "from datetime import datetime\n",
    "import telebot\n",
    "from binance import Client, ThreadedWebsocketManager, ThreadedDepthCacheManager\n",
    "from binance.enums import *\n",
    "import urllib3\n",
    "\n",
    "urllib3.disable_warnings()"
   ]
  },
  {
   "cell_type": "code",
   "execution_count": 2,
   "id": "51fe844d",
   "metadata": {},
   "outputs": [],
   "source": [
    "with open('binance.json') as f:\n",
    "    api_keys = json.load(f)"
   ]
  },
  {
   "cell_type": "code",
   "execution_count": 3,
   "id": "fa738402",
   "metadata": {},
   "outputs": [],
   "source": [
    "def get_pair(spot_symbols, futures_symbols):\n",
    "    pair = []\n",
    "    for spot_symbol in spot_symbols:\n",
    "        try:\n",
    "            temp_symbols = []\n",
    "            for future_symbol in futures_symbols:\n",
    "                if spot_symbol in future_symbol: \n",
    "                    temp_symbols.append(future_symbol)\n",
    "\n",
    "            futures_symbol = temp_symbols[0]\n",
    "            pair.append({\"spot\":spot_symbol, \"futures\":futures_symbol})\n",
    "        except IndexError: \n",
    "            pass\n",
    "    return pair"
   ]
  },
  {
   "cell_type": "code",
   "execution_count": 4,
   "id": "566a331f",
   "metadata": {},
   "outputs": [],
   "source": [
    "def check_bid_ask(client, pair):\n",
    "    s_quotes = client.get_orderbook_ticker()\n",
    "    df_s = pd.DataFrame(s_quotes)\n",
    "    f_quotes = client.futures_orderbook_ticker()\n",
    "    df_f = pd.DataFrame(f_quotes)\n",
    "    df_merge = df_s.merge(df_f, how='inner', on='symbol', suffixes=('_s', '_f'))\n",
    "    df_merge = df_merge.astype(\n",
    "        {\n",
    "            \"symbol\": str,\n",
    "            \"askPrice_s\": 'float64',\n",
    "            \"askPrice_f\": 'float64',\n",
    "            \"bidPrice_s\": 'float64',\n",
    "            \"bidPrice_f\": 'float64',\n",
    "            \"askQty_s\": 'float64',\n",
    "            \"askQty_f\": 'float64',\n",
    "            \"bidQty_s\": 'float64',\n",
    "            \"bidQty_f\": 'float64'\n",
    "        }\n",
    "    )\n",
    "    \n",
    "    df_merge['diff_s'] = ((df_merge['bidPrice_s'] - df_merge['askPrice_f'])*100)/df_merge['bidPrice_s']\n",
    "    df_merge['diff_f'] = ((df_merge['bidPrice_f'] - df_merge['askPrice_s'])*100)/df_merge['bidPrice_f']\n",
    "    df_merge = df_merge.drop({\"time\", \"bidQty_s\", \"askQty_s\", \"bidQty_f\", \"askQty_f\"}, axis=1)\n",
    "    return df_merge"
   ]
  },
  {
   "cell_type": "code",
   "execution_count": 5,
   "id": "6553990c",
   "metadata": {},
   "outputs": [],
   "source": [
    "def update_diff(bot, diff_df, symbol, diff_s, diff_f):\n",
    "    id = diff_df[diff_df['symbol']==symbol].index.values[0]\n",
    "\n",
    "    if diff_df.iloc[id]['diff_s'] < diff_s:\n",
    "        diff_df.loc[diff_df[\"symbol\"]==symbol,'diff_s'] = diff_s\n",
    "        msg = symbol+\": short spot \"+str(round(diff_s, 4))\n",
    "        print(msg)\n",
    "        bot.send_message(CHANEL_ID, msg)\n",
    "    \n",
    "    if diff_df.iloc[id]['diff_f'] < diff_f:\n",
    "        diff_df.loc[diff_df[\"symbol\"]==symbol,'diff_f'] = diff_f\n",
    "        msg = symbol+\": short futures \"+str(round(diff_f, 4))\n",
    "        print(msg)\n",
    "        bot.send_message(CHANEL_ID, msg)"
   ]
  },
  {
   "cell_type": "code",
   "execution_count": 6,
   "id": "2a6d77c7",
   "metadata": {
    "scrolled": true
   },
   "outputs": [],
   "source": [
    "#Создаем binance клиента\n",
    "client = Client(api_keys['apiKey'], api_keys['secret'], {\"verify\": False, \"timeout\": 20})\n",
    "\n",
    "#Формируем списки спота и фьючерса\n",
    "spot_info = client.get_all_tickers()\n",
    "spot_symbols = [market['symbol'] for market in spot_info]\n",
    "\n",
    "futures_info = client.futures_exchange_info()\n",
    "futures_info_symbols = futures_info['symbols']\n",
    "futures_symbols =  [market['symbol'] for market in futures_info_symbols]\n",
    "\n",
    "#Создаем список повторяющихся пар спот-фьючерс\n",
    "pair = get_pair(spot_symbols, futures_symbols)\n",
    "\n",
    "#Создаем экземпляр телеграмм бота\n",
    "BOT_KEY = api_keys[\"telebot_key\"]\n",
    "CHANEL_ID = api_keys[\"CHANEL_ID\"]\n",
    "bot = telebot.TeleBot(BOT_KEY)"
   ]
  },
  {
   "cell_type": "code",
   "execution_count": 7,
   "id": "8caf67ac",
   "metadata": {
    "scrolled": false
   },
   "outputs": [
    {
     "ename": "KeyboardInterrupt",
     "evalue": "",
     "output_type": "error",
     "traceback": [
      "\u001b[1;31m---------------------------------------------------------------------------\u001b[0m",
      "\u001b[1;31mKeyboardInterrupt\u001b[0m                         Traceback (most recent call last)",
      "Input \u001b[1;32mIn [7]\u001b[0m, in \u001b[0;36m<cell line: 11>\u001b[1;34m()\u001b[0m\n\u001b[0;32m     19\u001b[0m         \u001b[38;5;28;01mfor\u001b[39;00m i \u001b[38;5;129;01min\u001b[39;00m futures_short:\n\u001b[0;32m     20\u001b[0m             update_diff(bot, diff_df, df\u001b[38;5;241m.\u001b[39mloc[i]\u001b[38;5;241m.\u001b[39msymbol, df\u001b[38;5;241m.\u001b[39mloc[i]\u001b[38;5;241m.\u001b[39mdiff_s, df\u001b[38;5;241m.\u001b[39mloc[i]\u001b[38;5;241m.\u001b[39mdiff_f)\n\u001b[1;32m---> 21\u001b[0m     \u001b[43mtime\u001b[49m\u001b[38;5;241;43m.\u001b[39;49m\u001b[43msleep\u001b[49m\u001b[43m(\u001b[49m\u001b[43mPAUSE_SEC\u001b[49m\u001b[43m)\u001b[49m\n\u001b[0;32m     22\u001b[0m \u001b[38;5;28;01mexcept\u001b[39;00m \u001b[38;5;167;01mException\u001b[39;00m \u001b[38;5;28;01mas\u001b[39;00m ex:\n\u001b[0;32m     23\u001b[0m     \u001b[38;5;28mprint\u001b[39m(ex)\n",
      "\u001b[1;31mKeyboardInterrupt\u001b[0m: "
     ]
    }
   ],
   "source": [
    "#Спрашиваем котровки бидов и асков на спол и фьючерс. Сравниваем и выдаем разницу\n",
    "MIN_DIFF = 3\n",
    "PAUSE_SEC = 3\n",
    "data = []\n",
    "for sym in pair:\n",
    "    data.append({'symbol':sym[\"spot\"], 'diff_s':0.00, 'diff_f':0.00})\n",
    "    \n",
    "diff_df = pd.DataFrame(data)\n",
    "\n",
    "while(1):\n",
    "    try:\n",
    "        df = check_bid_ask(client, pair)\n",
    "        spot_mask = df.loc[df['diff_s']>MIN_DIFF].index\n",
    "        futures_mask = df.loc[df['diff_f']>MIN_DIFF].index\n",
    "        if not spot_mask.empty:\n",
    "            for i in spot_mask:\n",
    "                update_diff(bot, diff_df, df.loc[i].symbol, df.loc[i].diff_s, df.loc[i].diff_f)\n",
    "        if not futures_mask.empty:\n",
    "            for i in futures_short:\n",
    "                update_diff(bot, diff_df, df.loc[i].symbol, df.loc[i].diff_s, df.loc[i].diff_f)\n",
    "        time.sleep(PAUSE_SEC)\n",
    "    except Exception as ex:\n",
    "        print(ex)\n",
    "        print(\"Binance Timeout err. Wait 1min\")\n",
    "        time.sleep(60)"
   ]
  },
  {
   "cell_type": "code",
   "execution_count": null,
   "id": "2f6305f4",
   "metadata": {},
   "outputs": [],
   "source": []
  }
 ],
 "metadata": {
  "kernelspec": {
   "display_name": "Python 3 (ipykernel)",
   "language": "python",
   "name": "python3"
  },
  "language_info": {
   "codemirror_mode": {
    "name": "ipython",
    "version": 3
   },
   "file_extension": ".py",
   "mimetype": "text/x-python",
   "name": "python",
   "nbconvert_exporter": "python",
   "pygments_lexer": "ipython3",
   "version": "3.8.13"
  }
 },
 "nbformat": 4,
 "nbformat_minor": 5
}
